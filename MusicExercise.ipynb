{
 "cells": [
  {
   "metadata": {},
   "cell_type": "markdown",
   "source": "",
   "id": "4663b5b83ee7414b"
  },
  {
   "metadata": {
    "ExecuteTime": {
     "end_time": "2024-11-11T18:13:01.143524Z",
     "start_time": "2024-11-11T18:13:01.130942Z"
    }
   },
   "cell_type": "code",
   "source": [
    "import pandas as pd\n",
    "from sklearn.tree import DecisionTreeClassifier\n",
    "from sklearn.model_selection import train_test_split\n",
    "from sklearn.metrics import accuracy_score\n",
    "\n",
    "music_data = pd.read_csv('music.csv')\n",
    "X = music_data.drop(columns=['genre']) #Speichert neue Tabelle ohne Column genre, Convention = Grossbuchstabe\n",
    "y = music_data['genre'] #Speichert neue Tabelle nur mit Column genre, Convention = kleinbuchstabe\n",
    "X_train, X_test, y_train, y_test =train_test_split (X, y, test_size=0.2) #test size = 20% für Testset, Variablen für training und testing\n",
    "\n",
    "\n",
    "model = DecisionTreeClassifier()\n",
    "model.fit(X_train, y_train)\n",
    "predictions = model.predict(X_test)\n",
    "score = accuracy = accuracy_score(y_test, predictions) #Vergleicht test data mit actual data\n",
    "score"
   ],
   "id": "10c93c0c5aef3a89",
   "outputs": [
    {
     "data": {
      "text/plain": [
       "1.0"
      ]
     },
     "execution_count": 2,
     "metadata": {},
     "output_type": "execute_result"
    }
   ],
   "execution_count": 2
  },
  {
   "metadata": {},
   "cell_type": "code",
   "outputs": [],
   "execution_count": null,
   "source": "",
   "id": "d18349d705da80a4"
  }
 ],
 "metadata": {
  "kernelspec": {
   "display_name": "Python 3",
   "language": "python",
   "name": "python3"
  },
  "language_info": {
   "codemirror_mode": {
    "name": "ipython",
    "version": 2
   },
   "file_extension": ".py",
   "mimetype": "text/x-python",
   "name": "python",
   "nbconvert_exporter": "python",
   "pygments_lexer": "ipython2",
   "version": "2.7.6"
  }
 },
 "nbformat": 4,
 "nbformat_minor": 5
}
