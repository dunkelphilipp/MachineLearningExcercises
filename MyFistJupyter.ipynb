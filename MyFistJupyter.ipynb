{
 "cells": [
  {
   "metadata": {},
   "cell_type": "markdown",
   "source": "First enter the name ",
   "id": "cccb6cc4956faaa6"
  },
  {
   "cell_type": "code",
   "id": "initial_id",
   "metadata": {
    "collapsed": true,
    "ExecuteTime": {
     "end_time": "2024-10-28T18:40:49.297518Z",
     "start_time": "2024-10-28T18:40:45.317733Z"
    }
   },
   "source": [
    "name = input(\"Enter your name: \")\n",
    "print(\"Hello \" + name)"
   ],
   "outputs": [
    {
     "name": "stdout",
     "output_type": "stream",
     "text": [
      "Hello Phil\n"
     ]
    }
   ],
   "execution_count": 8
  },
  {
   "metadata": {},
   "cell_type": "markdown",
   "source": "Another print\n",
   "id": "36463325f2f50462"
  },
  {
   "metadata": {
    "ExecuteTime": {
     "end_time": "2024-10-28T18:40:51.206956Z",
     "start_time": "2024-10-28T18:40:51.203096Z"
    }
   },
   "cell_type": "code",
   "source": "print (\"Hello Jupyter\")",
   "id": "40c098f9d6f67fe4",
   "outputs": [
    {
     "name": "stdout",
     "output_type": "stream",
     "text": [
      "Hello Jupyter\n"
     ]
    }
   ],
   "execution_count": 9
  },
  {
   "metadata": {},
   "cell_type": "markdown",
   "source": "Lets add some more",
   "id": "35fdcf89d03f869f"
  },
  {
   "metadata": {
    "ExecuteTime": {
     "end_time": "2024-10-28T18:40:53.736744Z",
     "start_time": "2024-10-28T18:40:53.733315Z"
    }
   },
   "cell_type": "code",
   "source": "print (\"Hello \" + name)",
   "id": "470cdd2781b25263",
   "outputs": [
    {
     "name": "stdout",
     "output_type": "stream",
     "text": [
      "Hello Phil\n"
     ]
    }
   ],
   "execution_count": 10
  },
  {
   "metadata": {},
   "cell_type": "markdown",
   "source": "And more",
   "id": "e4fcb41fb3c09d9c"
  },
  {
   "metadata": {
    "ExecuteTime": {
     "end_time": "2024-10-28T18:40:59.446314Z",
     "start_time": "2024-10-28T18:40:55.993006Z"
    }
   },
   "cell_type": "code",
   "source": [
    "name = input(\"Enter a different name: \")\n",
    "print(\"Hello \" + name)"
   ],
   "id": "6b176f8416d6075c",
   "outputs": [
    {
     "name": "stdout",
     "output_type": "stream",
     "text": [
      "Hello Meli\n"
     ]
    }
   ],
   "execution_count": 11
  },
  {
   "metadata": {},
   "cell_type": "markdown",
   "source": "Moooooore",
   "id": "b57a2aa81937f574"
  },
  {
   "metadata": {
    "ExecuteTime": {
     "end_time": "2024-10-28T18:41:01.925249Z",
     "start_time": "2024-10-28T18:41:01.922758Z"
    }
   },
   "cell_type": "code",
   "source": "print(\"Hello \" + name)",
   "id": "b411e1422dd33bcf",
   "outputs": [
    {
     "name": "stdout",
     "output_type": "stream",
     "text": [
      "Hello Meli\n"
     ]
    }
   ],
   "execution_count": 12
  }
 ],
 "metadata": {
  "kernelspec": {
   "display_name": "Python 3",
   "language": "python",
   "name": "python3"
  },
  "language_info": {
   "codemirror_mode": {
    "name": "ipython",
    "version": 2
   },
   "file_extension": ".py",
   "mimetype": "text/x-python",
   "name": "python",
   "nbconvert_exporter": "python",
   "pygments_lexer": "ipython2",
   "version": "2.7.6"
  }
 },
 "nbformat": 4,
 "nbformat_minor": 5
}
